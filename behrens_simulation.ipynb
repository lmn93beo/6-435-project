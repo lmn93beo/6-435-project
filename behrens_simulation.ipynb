{
 "cells": [
  {
   "cell_type": "code",
   "execution_count": 1,
   "metadata": {},
   "outputs": [],
   "source": [
    "import numpy as np\n",
    "import matplotlib.pyplot as plt\n",
    "import scipy.stats as sts\n",
    "\n",
    "%matplotlib notebook"
   ]
  },
  {
   "cell_type": "markdown",
   "metadata": {},
   "source": [
    "## Simulated data for block trial structure"
   ]
  },
  {
   "cell_type": "code",
   "execution_count": 2,
   "metadata": {},
   "outputs": [
    {
     "data": {
      "text/plain": [
       "[<matplotlib.lines.Line2D at 0x2a62f6a6cf8>]"
      ]
     },
     "execution_count": 2,
     "metadata": {},
     "output_type": "execute_result"
    },
    {
     "data": {
      "image/png": "[encoded data removed]",
      "text/plain": [
       "<Figure size 432x288 with 1 Axes>"
      ]
     },
     "metadata": {
      "needs_background": "light"
     },
     "output_type": "display_data"
    }
   ],
   "source": [
    "# Generate fake data from the model\n",
    "# Build the true reward rate\n",
    "true_prob = [0.75] * 120 + [0.2] * 40 + [0.8] * 40 + [0.2] * 30 + [0.8] * 30 + [0.2] * 40\n",
    "plt.plot(true_prob)"
   ]
  },
  {
   "cell_type": "code",
   "execution_count": 3,
   "metadata": {},
   "outputs": [
    {
     "data": {
      "text/plain": [
       "[<matplotlib.lines.Line2D at 0x2a62f74a9b0>]"
      ]
     },
     "execution_count": 3,
     "metadata": {},
     "output_type": "execute_result"
    },
    {
     "data": {
      "image/png": "[encoded data removed]",
      "text/plain": [
       "<Figure size 432x288 with 1 Axes>"
      ]
     },
     "metadata": {
      "needs_background": "light"
     },
     "output_type": "display_data"
    }
   ],
   "source": [
    "# Generate data from bernoulli\n",
    "randvars = np.random.random(len(true_prob))\n",
    "outcomes = randvars < true_prob\n",
    "plt.figure()\n",
    "plt.plot(outcomes, '.')"
   ]
  },
  {
   "cell_type": "markdown",
   "metadata": {},
   "source": [
    "## Exact inference"
   ]
  },
  {
   "cell_type": "code",
   "execution_count": 4,
   "metadata": {},
   "outputs": [],
   "source": [
    "# Define some conditionals that will be useful\n",
    "def pr_next(rnext, rprev, v):\n",
    "    '''Find p(r_{i+1} = rnext | r_i = rprev, v)'''\n",
    "    # Take care of boundaries:\n",
    "    if rnext == 0:\n",
    "        rval = 1e-10\n",
    "    elif rnext == 1:\n",
    "        rval = 1 - 1e-10\n",
    "    else:\n",
    "        rval = rnext\n",
    "                  \n",
    "    s = rprev * np.exp(-v)\n",
    "    n = (1 - rprev) * np.exp(-v)\n",
    "    \n",
    "    if s == 0:\n",
    "        s = 1e-10\n",
    "    if n == 0:\n",
    "        n = 1e-10\n",
    "    \n",
    "    #print(s, n)\n",
    "    return sts.beta.pdf(rval, s, n)\n",
    "\n",
    "def pv_next(vnext, vprev, k):\n",
    "    '''Find p(v_{i+1} = vnext | v_i = vprev, k)'''\n",
    "    K = np.exp(k)\n",
    "    return sts.norm.pdf(vnext, vprev, K)\n",
    "\n",
    "def py_given_r(y, r):\n",
    "    '''p(y = y| r), which is bernoulli'''\n",
    "    if y == 1:\n",
    "        return r\n",
    "    else:\n",
    "        return 1 - r"
   ]
  },
  {
   "cell_type": "code",
   "execution_count": 5,
   "metadata": {},
   "outputs": [
    {
     "data": {
      "text/plain": [
       "[<matplotlib.lines.Line2D at 0x2a62f787080>]"
      ]
     },
     "execution_count": 5,
     "metadata": {},
     "output_type": "execute_result"
    },
    {
     "data": {
      "image/png": "[encoded data removed]",
      "text/plain": [
       "<Figure size 432x288 with 1 Axes>"
      ]
     },
     "metadata": {
      "needs_background": "light"
     },
     "output_type": "display_data"
    }
   ],
   "source": [
    "xvals = np.linspace(0, 1, 1000)\n",
    "y = sts.beta.pdf(xvals, 0.1, 0.9)\n",
    "plt.figure()\n",
    "plt.plot(xvals,y)"
   ]
  },
  {
   "cell_type": "code",
   "execution_count": 6,
   "metadata": {},
   "outputs": [],
   "source": [
    "# Set up a grid of r, v, k\n",
    "rvals = np.linspace(0, 1, 10)\n",
    "vvals = np.linspace(0, 5, 10)\n",
    "kvals = np.linspace(0, 5, 10)\n",
    "rgrid, vgrid, kgrid = np.meshgrid(rvals, vvals, kvals, indexing='ij')\n",
    "\n",
    "# Set up the probability grid\n",
    "posterior_arr = np.ones_like(rgrid)"
   ]
  },
  {
   "cell_type": "code",
   "execution_count": 7,
   "metadata": {},
   "outputs": [],
   "source": [
    "# Use recursion to find the posterior\n",
    "def find_posterior(r, v, k, y, i):\n",
    "    '''Find the posterior p(r_{i+1}, v_{i+1}, k | y_{<=i+1})\n",
    "    Inputs:\n",
    "    - r: value of r_{i+1}\n",
    "    - v: value of v_{i+1}\n",
    "    - k: value of k\n",
    "    - y: array of y responses\n",
    "    - i: time point'''\n",
    "    \n",
    "    #print(r, v, k, i)\n",
    "    dv = (np.max(vvals) - np.min(vvals)) / len(vvals)\n",
    "    dr = (np.max(rvals) - np.min(rvals)) / len(rvals)\n",
    "    # Base case\n",
    "    if i == -1:\n",
    "        return 1 # Uniform prior\n",
    "    \n",
    "    # Recursive step\n",
    "    p_yr = py_given_r(y[i], r)\n",
    "    \n",
    "    # Do the integral\n",
    "    integral = 0\n",
    "    for ri in rvals:\n",
    "        p_rv = pr_next(r, ri, v)\n",
    "        #print('p_rv:', r, ri, v, p_rv)\n",
    "        \n",
    "        # Inner integral\n",
    "        inner = 0\n",
    "        for vi in vvals:\n",
    "            p_vk = pv_next(v, vi, k)\n",
    "            posterior_prev = find_posterior(ri, vi, k, y, i - 1)\n",
    "            inner += posterior_prev * p_vk * dv\n",
    "    \n",
    "        integral += inner * p_rv * dr\n",
    "        \n",
    "    #print('Results for ', r, v, k, i, ': ', integral)\n",
    "    return integral * p_yr\n",
    "    "
   ]
  },
  {
   "cell_type": "code",
   "execution_count": 8,
   "metadata": {},
   "outputs": [],
   "source": [
    "for i, r1 in enumerate(rvals):\n",
    "    for j, v1 in enumerate(vvals):\n",
    "        for m, k1 in enumerate(kvals):\n",
    "            posterior_arr[i, j, m] = find_posterior(r1, v1, k1, [0], 0)\n",
    "            "
   ]
  },
  {
   "cell_type": "code",
   "execution_count": 9,
   "metadata": {},
   "outputs": [
    {
     "data": {
      "text/plain": [
       "<matplotlib.image.AxesImage at 0x2a62f83b780>"
      ]
     },
     "execution_count": 9,
     "metadata": {},
     "output_type": "execute_result"
    },
    {
     "data": {
      "image/png": "[encoded data removed]",
      "text/plain": [
       "<Figure size 432x288 with 1 Axes>"
      ]
     },
     "metadata": {
      "needs_background": "light"
     },
     "output_type": "display_data"
    }
   ],
   "source": [
    "plt.imshow(posterior_arr[:,9,:])"
   ]
  },
  {
   "cell_type": "code",
   "execution_count": null,
   "metadata": {},
   "outputs": [],
   "source": []
  }
 ],
 "metadata": {
  "kernelspec": {
   "display_name": "Python 3",
   "language": "python",
   "name": "python3"
  },
  "language_info": {
   "codemirror_mode": {
    "name": "ipython",
    "version": 3
   },
   "file_extension": ".py",
   "mimetype": "text/x-python",
   "name": "python",
   "nbconvert_exporter": "python",
   "pygments_lexer": "ipython3",
   "version": "3.7.0"
  }
 },
 "nbformat": 4,
 "nbformat_minor": 2
}

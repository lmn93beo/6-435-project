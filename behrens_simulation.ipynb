{
 "cells": [
  {
   "cell_type": "code",
   "execution_count": 4,
   "metadata": {},
   "outputs": [],
   "source": [
    "import numpy as np\n",
    "import matplotlib.pyplot as plt\n",
    "import scipy.stats as sts\n",
    "import time\n",
    "import math\n",
    "from numba import jit\n",
    "\n",
    "%matplotlib notebook"
   ]
  },
  {
   "cell_type": "markdown",
   "metadata": {},
   "source": [
    "## Simulated data for block trial structure"
   ]
  },
  {
   "cell_type": "code",
   "execution_count": 5,
   "metadata": {},
   "outputs": [
    {
     "data": {
      "text/plain": [
       "[<matplotlib.lines.Line2D at 0x1450ddebd30>]"
      ]
     },
     "execution_count": 5,
     "metadata": {},
     "output_type": "execute_result"
    },
    {
     "data": {
      "image/png": "[encoded data removed]",
      "text/plain": [
       "<Figure size 432x288 with 1 Axes>"
      ]
     },
     "metadata": {
      "needs_background": "light"
     },
     "output_type": "display_data"
    }
   ],
   "source": [
    "# Generate fake data from the model\n",
    "# Build the true reward rate\n",
    "true_prob = [0.75] * 60 + [0.2] * 40 + [0.8] * 40 + [0.2] * 30 + [0.8] * 30 + [0.2] * 30\n",
    "plt.figure()\n",
    "plt.plot(true_prob)"
   ]
  },
  {
   "cell_type": "code",
   "execution_count": 6,
   "metadata": {},
   "outputs": [
    {
     "data": {
      "text/plain": [
       "[<matplotlib.lines.Line2D at 0x1450de88e48>]"
      ]
     },
     "execution_count": 6,
     "metadata": {},
     "output_type": "execute_result"
    },
    {
     "data": {
      "image/png": "[encoded data removed]",
      "text/plain": [
       "<Figure size 432x288 with 1 Axes>"
      ]
     },
     "metadata": {
      "needs_background": "light"
     },
     "output_type": "display_data"
    }
   ],
   "source": [
    "# Generate data from bernoulli\n",
    "randvars = np.random.random(len(true_prob))\n",
    "outcomes = randvars < true_prob\n",
    "plt.figure()\n",
    "plt.plot(outcomes, '.')"
   ]
  },
  {
   "cell_type": "markdown",
   "metadata": {},
   "source": [
    "## Exact inference"
   ]
  },
  {
   "cell_type": "code",
   "execution_count": 7,
   "metadata": {},
   "outputs": [
    {
     "name": "stdout",
     "output_type": "stream",
     "text": [
      "Beta test error:  2.6138349401201225e-28\n",
      "Normal test error:  4.7955655615242173e-32\n"
     ]
    }
   ],
   "source": [
    "# Define some conditionals that will be useful\n",
    "@jit(nopython=True)\n",
    "def my_beta(x, a, b):\n",
    "    #print('beta', x, a, b)\n",
    "    constant = math.gamma(a + b) / math.gamma(a) / math.gamma(b)\n",
    "    return constant * x**(a - 1) * (1 - x)**(b - 1)\n",
    "@jit(nopython=True)\n",
    "def my_normal(x, mu, sigma):\n",
    "    constant = 1 / np.sqrt(2 * np.pi * sigma**2)\n",
    "    return np.exp(-(x - mu)**2 / 2 / sigma**2) * constant\n",
    "\n",
    "# Test these\n",
    "xvals = np.linspace(0, 1, 1000)\n",
    "my_result = my_beta(xvals, 3, 4)\n",
    "sts_result = sts.beta.pdf(xvals, 3, 4)\n",
    "\n",
    "my_normal = my_normal(xvals, 3, 4)\n",
    "sts_normal = sts.norm.pdf(xvals, 3, 4)\n",
    "\n",
    "\n",
    "print('Beta test error: ', np.sum((sts_result - my_result)**2))\n",
    "print('Normal test error: ', np.sum((sts_normal - my_normal)**2))"
   ]
  },
  {
   "cell_type": "code",
   "execution_count": 8,
   "metadata": {},
   "outputs": [
    {
     "ename": "NameError",
     "evalue": "name 'rvals' is not defined",
     "output_type": "error",
     "traceback": [
      "\u001b[1;31m---------------------------------------------------------------------------\u001b[0m",
      "\u001b[1;31mNameError\u001b[0m                                 Traceback (most recent call last)",
      "\u001b[1;32m<ipython-input-8-3d95d24091f4>\u001b[0m in \u001b[0;36m<module>\u001b[1;34m()\u001b[0m\n\u001b[1;32m----> 1\u001b[1;33m \u001b[0mrvals\u001b[0m\u001b[1;33m\u001b[0m\u001b[0m\n\u001b[0m",
      "\u001b[1;31mNameError\u001b[0m: name 'rvals' is not defined"
     ]
    }
   ],
   "source": [
    "rvals"
   ]
  },
  {
   "cell_type": "code",
   "execution_count": 9,
   "metadata": {},
   "outputs": [],
   "source": [
    "#@jit(nopython=True)\n",
    "def pr_next(rnext, rprev, v):\n",
    "    '''Find p(r_{i+1} = rnext | r_i = rprev, v)'''\n",
    "    print('here2')\n",
    "    # Take care of boundaries:\n",
    "    rval = np.maximum(rnext, 1e-10)\n",
    "    rval = np.minimum(rval, (1 - 1e-10))\n",
    "                  \n",
    "    s = rprev * np.exp(-v)\n",
    "    n = (1 - rprev) * np.exp(-v)\n",
    "    \n",
    "    s = np.maximum(s, 1e-10)\n",
    "    n = np.maximum(n, 1e-10)\n",
    "    \n",
    "    # Math range error if use my_beta\n",
    "    return sts.beta.pdf(rval, s, n)\n",
    "\n",
    "@jit(nopython=True)\n",
    "def pr_next_gaussian(rnext, rprev, v):\n",
    "    '''Find p(r_{i+1} = rnext | r_i = rprev, v),\n",
    "    with a Gaussian distribution'''\n",
    "    #print('here')\n",
    "    V = np.exp(v)\n",
    "    mu = rprev\n",
    "    sigma = V\n",
    "    x = rnext\n",
    "    constant = 1 / np.sqrt(2 * np.pi * sigma**2)\n",
    "    result = np.exp(-(x - mu)**2 / 2 / sigma**2) * constant\n",
    "    return result\n",
    "    \n",
    "@jit(nopython=True)\n",
    "def pv_next(vnext, vprev, k):\n",
    "    '''Find p(v_{i+1} = vnext | v_i = vprev, k)'''\n",
    "    K = np.exp(k)\n",
    "    mu = vprev\n",
    "    sigma = K\n",
    "    x = vnext\n",
    "    constant = 1 / np.sqrt(2 * np.pi * sigma**2)\n",
    "    return np.exp(-(x - mu)**2 / 2 / sigma**2) * constant\n",
    "    #return my_normal(vnext, vprev, K) #sts.norm.pdf(vnext, vprev, K)\n",
    "\n",
    "@jit(nopython=True)\n",
    "def py_given_r(y, r):\n",
    "    '''p(y = y| r), which is bernoulli'''\n",
    "    assert(r <= 1 and r >= 0)\n",
    "    assert(y == 1 or y == 0)\n",
    "    if y == 1:\n",
    "        return r\n",
    "    else:\n",
    "        return 1 - r"
   ]
  },
  {
   "cell_type": "code",
   "execution_count": 10,
   "metadata": {},
   "outputs": [],
   "source": [
    "def find_posterior_t_vec_fast(nr, nv, nk, y, prev_res):\n",
    "    '''Inputs:\n",
    "    - nr, nv, nk: indices of the r, v, k desired\n",
    "    - prev_res: Nr x Nv x Nk array encoding posterior at time t - 1\n",
    "    - Returns the posterior at time t corresponding to nr, nv, nk'''\n",
    "    r = rvals[nr]\n",
    "    k = kvals[nk]\n",
    "    v = vvals[nv]\n",
    "    \n",
    "    p_yr = py_given_r(y, r)\n",
    "    # Find the p(v_i+1 | v_i, k) arr\n",
    "    p_rv = pr_next(r, rvals, v)\n",
    "    P_rv = np.tile(p_rv, (len(vvals), 1)).T\n",
    "    \n",
    "    # Find posterior_prev matrix\n",
    "    posterior_prev = prev_res[:,:,nk]\n",
    "    \n",
    "    # Find the p(r_i+1 | r_i, k) arr\n",
    "    p_vk = pv_next(v, vvals, k)\n",
    "    P_vk = np.tile(p_vk, (len(rvals), 1))\n",
    "    \n",
    "    # Integrate over the grid\n",
    "    integral = np.sum(P_rv * P_vk * posterior_prev * dv * dr)\n",
    "    return integral * p_yr\n",
    "\n",
    "def find_posterior_t_vec_fast_gaussian(nr, nv, nk, y, prev_res):\n",
    "    '''Inputs:\n",
    "    - nr, nv, nk: indices of the r, v, k desired\n",
    "    - prev_res: Nr x Nv x Nk array encoding posterior at time t - 1\n",
    "    - Returns the posterior at time t corresponding to nr, nv, nk'''\n",
    "    r = rvals[nr]\n",
    "    k = kvals[nk]\n",
    "    v = vvals[nv]\n",
    "    \n",
    "    p_yr = py_given_r(y, r)\n",
    "    # Find the p(v_i+1 | v_i, k) arr\n",
    "    p_rv = pr_next_gaussian(r, rvals, v)\n",
    "    P_rv = np.tile(p_rv, (len(vvals), 1)).T\n",
    "    \n",
    "    # Find posterior_prev matrix\n",
    "    posterior_prev = prev_res[:,:,nk]\n",
    "    \n",
    "    # Find the p(r_i+1 | r_i, k) arr\n",
    "    p_vk = pv_next(v, vvals, k)\n",
    "    P_vk = np.tile(p_vk, (len(rvals), 1))\n",
    "    \n",
    "    # Integrate over the grid\n",
    "    integral = np.sum(P_rv * P_vk * posterior_prev * dv * dr)\n",
    "    return integral * p_yr\n"
   ]
  },
  {
   "cell_type": "code",
   "execution_count": 11,
   "metadata": {},
   "outputs": [],
   "source": [
    "def find_posterior_t_arr(y, prev_res):\n",
    "    '''Inputs:\n",
    "    - prev_res: Nr x Nv x Nk array encoding posterior at time t - 1\n",
    "    - Returns the Nr x Nv x Nk array encoding posterior at time t'''\n",
    "    result = np.zeros_like(prev_res)\n",
    "    for nr in range(len(rvals)):\n",
    "        for nv in range(len(vvals)):\n",
    "            for nk in range(len(kvals)):\n",
    "                result[nr, nv, nk] = find_posterior_t_vec_fast(nr, nv, nk, y, prev_res)\n",
    "    # Normalize\n",
    "    result = result / np.sum(result)\n",
    "    return result\n",
    "\n",
    "def find_posterior_t_arr_gaussian(y, prev_res):\n",
    "    '''Inputs:\n",
    "    - prev_res: Nr x Nv x Nk array encoding posterior at time t - 1\n",
    "    - Returns the Nr x Nv x Nk array encoding posterior at time t'''\n",
    "    result = np.zeros_like(prev_res)\n",
    "    for nr in range(len(rvals)):\n",
    "        for nv in range(len(vvals)):\n",
    "            for nk in range(len(kvals)):\n",
    "                result[nr, nv, nk] = find_posterior_t_vec_fast_gaussian(nr, nv, nk, y, prev_res)\n",
    "    # Normalize\n",
    "    result = result / np.sum(result)\n",
    "    return result"
   ]
  },
  {
   "cell_type": "code",
   "execution_count": 19,
   "metadata": {
    "scrolled": true
   },
   "outputs": [
    {
     "name": "stdout",
     "output_type": "stream",
     "text": [
      "0\n",
      "1\n",
      "2\n",
      "3\n",
      "4\n",
      "5\n",
      "6\n",
      "7\n",
      "8\n",
      "9\n",
      "10\n",
      "11\n",
      "12\n",
      "13\n",
      "14\n",
      "15\n",
      "16\n",
      "17\n",
      "18\n",
      "19\n",
      "20\n",
      "21\n",
      "22\n",
      "23\n",
      "24\n",
      "25\n",
      "26\n",
      "27\n",
      "28\n",
      "29\n",
      "30\n",
      "31\n",
      "32\n",
      "33\n",
      "34\n",
      "35\n",
      "36\n",
      "37\n",
      "38\n",
      "39\n",
      "40\n",
      "41\n",
      "42\n",
      "43\n",
      "44\n",
      "45\n",
      "46\n",
      "47\n",
      "48\n",
      "49\n",
      "50\n",
      "51\n",
      "52\n",
      "53\n",
      "54\n",
      "55\n",
      "56\n",
      "57\n",
      "58\n",
      "59\n",
      "60\n",
      "61\n",
      "62\n",
      "63\n",
      "64\n",
      "65\n",
      "66\n",
      "67\n",
      "68\n",
      "69\n",
      "70\n",
      "71\n",
      "72\n",
      "73\n",
      "74\n",
      "75\n",
      "76\n",
      "77\n",
      "78\n",
      "79\n",
      "80\n",
      "81\n",
      "82\n",
      "83\n",
      "84\n",
      "85\n",
      "86\n",
      "87\n",
      "88\n",
      "89\n",
      "90\n",
      "91\n",
      "92\n",
      "93\n",
      "94\n",
      "95\n",
      "96\n",
      "97\n",
      "98\n",
      "99\n",
      "Elapsed time is  21.623363733291626\n"
     ]
    }
   ],
   "source": [
    "# Set up a grid of r, v, k\n",
    "rvals = np.linspace(0, 1, 20)\n",
    "vvals = np.linspace(-3, 3, 20)\n",
    "kvals = np.linspace(-3, 3, 20)\n",
    "dv = vvals[1] - vvals[0]\n",
    "dr = rvals[1] - rvals[0]\n",
    "\n",
    "begin = time.time()\n",
    "#Initialize array for storage\n",
    "result_final = np.ones((len(rvals), len(vvals), len(kvals), len(outcomes)))\n",
    "result_final = result_final / np.sum(result_final[:,:,:,0])\n",
    "\n",
    "\n",
    "nsimulate = 100\n",
    "\n",
    "# Perform the iterative updates\n",
    "for t in range(nsimulate):\n",
    "    print(t)\n",
    "    result = find_posterior_t_arr_gaussian(outcomes[t], result_final[:,:,:,t])\n",
    "    result_final[:,:,:,t+1] = result\n",
    "end = time.time()\n",
    "print('Elapsed time is ', end - begin)"
   ]
  },
  {
   "cell_type": "markdown",
   "metadata": {},
   "source": [
    "## Evolution of the parameters"
   ]
  },
  {
   "cell_type": "code",
   "execution_count": 34,
   "metadata": {},
   "outputs": [
    {
     "data": {
      "text/plain": [
       "<matplotlib.image.AxesImage at 0x14510b50c50>"
      ]
     },
     "execution_count": 34,
     "metadata": {},
     "output_type": "execute_result"
    },
    {
     "data": {
      "image/png": "[encoded data removed]",
      "text/plain": [
       "<Figure size 432x288 with 1 Axes>"
      ]
     },
     "metadata": {
      "needs_background": "light"
     },
     "output_type": "display_data"
    }
   ],
   "source": [
    "plt.figure()\n",
    "plt.imshow(result_final[19,:,0,:])"
   ]
  },
  {
   "cell_type": "code",
   "execution_count": 36,
   "metadata": {},
   "outputs": [
    {
     "data": {
      "text/plain": [
       "[<matplotlib.lines.Line2D at 0x14510ba20f0>]"
      ]
     },
     "execution_count": 36,
     "metadata": {},
     "output_type": "execute_result"
    },
    {
     "data": {
      "image/png": "[encoded data removed]",
      "text/plain": [
       "<Figure size 432x288 with 1 Axes>"
      ]
     },
     "metadata": {
      "needs_background": "light"
     },
     "output_type": "display_data"
    }
   ],
   "source": [
    "plt.plot(v_prob)"
   ]
  },
  {
   "cell_type": "code",
   "execution_count": 21,
   "metadata": {},
   "outputs": [],
   "source": [
    "rprobs = []\n",
    "vprobs = []\n",
    "kprobs = []\n",
    "rstd = []\n",
    "vstd = []\n",
    "\n",
    "for t in range(nsimulate):\n",
    "    endres = result_final[:,:,:,t]\n",
    "    # Marginalize out v and k\n",
    "    r_prob = np.sum(endres, axis=(1,2))\n",
    "    v_prob = np.sum(endres, axis=(0,2))\n",
    "    k_prob = np.sum(endres, axis=(0,1))\n",
    "    \n",
    "    # Expectations\n",
    "    expR = np.sum(r_prob / np.sum(r_prob) * rvals)\n",
    "    expV = np.sum(v_prob / np.sum(v_prob) * vvals)\n",
    "    expK = np.sum(k_prob / np.sum(k_prob) * kvals)\n",
    "    \n",
    "    # Standard deviations\n",
    "    expR2 = np.sum(r_prob / np.sum(r_prob) * (rvals**2))\n",
    "    stdR2 = np.sqrt(expR2 - expR**2)\n",
    "    \n",
    "    expV2 = np.sum(v_prob / np.sum(v_prob) * (vvals**2))\n",
    "    stdV2 = np.sqrt(expV2 - expV**2)\n",
    "    \n",
    "    rprobs.append(expR)\n",
    "    vprobs.append(expV)\n",
    "    kprobs.append(expK)\n",
    "    rstd.append(stdR2)\n",
    "    vstd.append(stdV2)\n",
    "    "
   ]
  },
  {
   "cell_type": "code",
   "execution_count": 22,
   "metadata": {},
   "outputs": [],
   "source": [
    "font = {'family' : 'helvetica',\n",
    "        'weight' : 'normal',\n",
    "        'size'   : 22}\n",
    "\n",
    "plt.rc('font', **font)"
   ]
  },
  {
   "cell_type": "code",
   "execution_count": 23,
   "metadata": {
    "scrolled": false
   },
   "outputs": [
    {
     "data": {
      "text/plain": [
       "<matplotlib.legend.Legend at 0x1450f6b2f98>"
      ]
     },
     "execution_count": 23,
     "metadata": {},
     "output_type": "execute_result"
    },
    {
     "data": {
      "image/png": "[encoded data removed]",
      "text/plain": [
       "<Figure size 720x360 with 1 Axes>"
      ]
     },
     "metadata": {
      "needs_background": "light"
     },
     "output_type": "display_data"
    }
   ],
   "source": [
    "plt.figure(figsize=(10,5))\n",
    "plt.errorbar(np.arange(len(rprobs)), rprobs, rstd, label='Estimated reward', alpha=0.8)\n",
    "plt.plot(true_prob[:nsimulate], 'r--', label='True reward')\n",
    "plt.ylabel(r'$r_i$')\n",
    "plt.xlabel('Time step')\n",
    "plt.legend(loc='upper right')\n",
    "#plt.savefig('behrens.pdf')"
   ]
  },
  {
   "cell_type": "code",
   "execution_count": 26,
   "metadata": {},
   "outputs": [
    {
     "data": {
      "text/plain": [
       "<matplotlib.legend.Legend at 0x1450f9b6710>"
      ]
     },
     "execution_count": 26,
     "metadata": {},
     "output_type": "execute_result"
    },
    {
     "data": {
      "image/png": "[encoded data removed]",
      "text/plain": [
       "<Figure size 720x360 with 1 Axes>"
      ]
     },
     "metadata": {
      "needs_background": "light"
     },
     "output_type": "display_data"
    }
   ],
   "source": [
    "plt.figure(figsize=(10,5))\n",
    "plt.errorbar(np.arange(len(rprobs)), kprobs, vstd, label='Estimated reward', alpha=0.8)\n",
    "plt.plot(true_prob[:nsimulate], 'r--', label='True reward')\n",
    "plt.ylabel(r'$r_i$')\n",
    "plt.xlabel('Time step')\n",
    "plt.legend(loc='upper right')\n",
    "#plt.savefig('behrens.pdf')"
   ]
  },
  {
   "cell_type": "code",
   "execution_count": null,
   "metadata": {},
   "outputs": [],
   "source": []
  }
 ],
 "metadata": {
  "kernelspec": {
   "display_name": "Python 3",
   "language": "python",
   "name": "python3"
  },
  "language_info": {
   "codemirror_mode": {
    "name": "ipython",
    "version": 3
   },
   "file_extension": ".py",
   "mimetype": "text/x-python",
   "name": "python",
   "nbconvert_exporter": "python",
   "pygments_lexer": "ipython3",
   "version": "3.7.0"
  }
 },
 "nbformat": 4,
 "nbformat_minor": 2
}
